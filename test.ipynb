{
 "cells": [
  {
   "cell_type": "code",
   "execution_count": 1,
   "metadata": {},
   "outputs": [],
   "source": [
    "import torch\n",
    "from torch import nn"
   ]
  },
  {
   "cell_type": "code",
   "execution_count": 9,
   "metadata": {},
   "outputs": [],
   "source": [
    "class ClassifyMLP(nn.Module):\n",
    "    def __init__(self, input_size, hidden_size_1, hidden_size_2, output_size, dropout):\n",
    "        super(ClassifyMLP, self).__init__()\n",
    "        self.fc1 = nn.Linear(input_size, hidden_size_1)\n",
    "        self.relu1 = nn.ReLU()\n",
    "        self.dropout1 = nn.Dropout(dropout)\n",
    "        self.fc2 = nn.Linear(hidden_size_1, hidden_size_2)\n",
    "        self.relu2 = nn.ReLU()\n",
    "        self.dropout2 = nn.Dropout(dropout)\n",
    "        self.cls = nn.Linear(hidden_size_2, output_size)  \n",
    "\n",
    "    def forward(self, x):\n",
    "        # x = x.view(x.size(0), -1)\n",
    "        print(x.shape)\n",
    "        x = self.fc1(x)\n",
    "        print(\"fc1\")\n",
    "        print(x.shape)\n",
    "        x = self.relu1(x)\n",
    "        print(\"relu1\")\n",
    "        print(x.shape )\n",
    "        x = self.dropout1(x)\n",
    "        print(\"dropout1\")\n",
    "        print(x.shape)\n",
    "        x = self.fc2(x)\n",
    "        print(\"fc2\")\n",
    "        print(x.shape )\n",
    "        x = self.relu2(x)\n",
    "        print(\"relu2\")\n",
    "        print(x.shape)\n",
    "        x = self.dropout2(x)\n",
    "        print(\"dropout2\")\n",
    "        print(x.shape )\n",
    "        x = self.cls(x) \n",
    "        x = x.view(-1, x.shape[-1])\n",
    "        return x"
   ]
  },
  {
   "cell_type": "code",
   "execution_count": 10,
   "metadata": {},
   "outputs": [
    {
     "name": "stdout",
     "output_type": "stream",
     "text": [
      "torch.Size([48, 300, 3])\n",
      "fc1\n",
      "torch.Size([48, 300, 128])\n",
      "relu1\n",
      "torch.Size([48, 300, 128])\n",
      "dropout1\n",
      "torch.Size([48, 300, 128])\n",
      "fc2\n",
      "torch.Size([48, 300, 64])\n",
      "relu2\n",
      "torch.Size([48, 300, 64])\n",
      "dropout2\n",
      "torch.Size([48, 300, 64])\n",
      "torch.Size([48, 300, 3])\n",
      "fc1\n",
      "torch.Size([48, 300, 128])\n",
      "relu1\n",
      "torch.Size([48, 300, 128])\n",
      "dropout1\n",
      "torch.Size([48, 300, 128])\n",
      "fc2\n",
      "torch.Size([48, 300, 64])\n",
      "relu2\n",
      "torch.Size([48, 300, 64])\n",
      "dropout2\n",
      "torch.Size([48, 300, 64])\n",
      "torch.Size([14400, 12])\n"
     ]
    }
   ],
   "source": [
    "x = torch.rand([48, 300, 3])\n",
    "\n",
    "model = ClassifyMLP(\n",
    "        input_size=3,\n",
    "        hidden_size_1=128,\n",
    "        hidden_size_2=64,\n",
    "        output_size=12,\n",
    "        dropout=0.25\n",
    "    )\n",
    "model(x)\n",
    "print(model(x).shape)"
   ]
  }
 ],
 "metadata": {
  "kernelspec": {
   "display_name": "env",
   "language": "python",
   "name": "python3"
  },
  "language_info": {
   "codemirror_mode": {
    "name": "ipython",
    "version": 3
   },
   "file_extension": ".py",
   "mimetype": "text/x-python",
   "name": "python",
   "nbconvert_exporter": "python",
   "pygments_lexer": "ipython3",
   "version": "3.11.3"
  }
 },
 "nbformat": 4,
 "nbformat_minor": 2
}
